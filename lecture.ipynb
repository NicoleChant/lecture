{
 "cells": [
  {
   "cell_type": "markdown",
   "metadata": {},
   "source": [
    "## Project Week"
   ]
  },
  {
   "cell_type": "markdown",
   "metadata": {},
   "source": [
    "# What is GIT? --> A time MACHINE!"
   ]
  },
  {
   "cell_type": "markdown",
   "metadata": {},
   "source": [
    "![](timemachine_with_credit.png)"
   ]
  },
  {
   "cell_type": "markdown",
   "metadata": {},
   "source": [
    "### Minimal Project Structure: Create a package"
   ]
  },
  {
   "cell_type": "markdown",
   "metadata": {},
   "source": [
    "- cd ~/code\n",
    "- mkdir estate_ai\n",
    "- cd estate_ai\n",
    "- ... more code to make package\n",
    "------------------------\n",
    "Requirements & Setup\n",
    "- touch requirements.txt\n",
    "\n",
    "- touch setup.py\n",
    "- touch Makefile\n",
    "- touch README.md            <br>#information about our project\n",
    "- mkdir notebooks            <br>#for jupyter notebooks\n",
    "- touch notebooks/.keep      <br>#keep so git is able to track it ($explain HERE with git status)\n",
    "- touch .gitignore           <br>#ignore files we don't want on our github ($explain HERE)\n",
    "- touch .env                 <br>#to keep our secrets safe -> in gitignore\n",
    "- touch .envrc               <br>#.env configuration: should contain only dotenv -> in gitignore\n",
    "- mkdir raw_data             <br># for our local datasets -> in gitignore\n",
    "\n",
    "Remember: \n",
    "- Makefile is for automating long commands.\n",
    "- Requiments for install your dependencies (important if some of your team members added new packages)\n",
    "- setup.py to install your package\n",
    "\n",
    "Minimal setup.py\n",
    "```\n",
    "from setuptools import setup , find_packages\n",
    "\n",
    "#requirements\n",
    "with open(\"requirements.txt\",\"r+\") as f:\n",
    "  requirements = [r.strip() for r in f.readlines()]\n",
    "  \n",
    "#install\n",
    "setup(name = 'estate_ai' ,\n",
    "      author = 'Nicole',\n",
    "      version = '0.0.1',\n",
    "      description = '...',\n",
    "      packages = find_packages(),\n",
    "      install_requires=requirements)\n",
    "```\n",
    "----------------------\n",
    "Create tests directory (wont be used in projects)\n",
    "- mkdir tests\n",
    "- `touch tests/__init__.py`\n",
    "----------------------\n",
    "Main ML Logic\n",
    "- mkdir estate_ai\n",
    "- `touch estate_ai/__init__.py`\n",
    "\n",
    "Never forget to include __init__.py in the subdirectories of your package.\n",
    "\n",
    "Finally run: \n",
    "- Initialize git repo: `git init`, and \n",
    "- run `tree` to check our package structure\n",
    "- create virtual environment: pyenv virtualenv 3.10.6 estate_ai"
   ]
  },
  {
   "cell_type": "markdown",
   "metadata": {},
   "source": [
    "## Dir Structure"
   ]
  },
  {
   "cell_type": "markdown",
   "metadata": {},
   "source": [
    "```.\n",
    "├── estate_ai\n",
    "│   ├── hello_world.py\n",
    "│   └── __init__.py\n",
    "├── Makefile\n",
    "├── notebooks\n",
    "├── raw_data\n",
    "├── .env\n",
    "├── .envrc\n",
    "├── README.md\n",
    "├── requirements.txt\n",
    "├── setup.py\n",
    "└── tests\n",
    "    └── __init__.py\n",
    "```"
   ]
  },
  {
   "cell_type": "markdown",
   "metadata": {},
   "source": [
    "### Commit Boilerplate"
   ]
  },
  {
   "cell_type": "markdown",
   "metadata": {},
   "source": [
    "```\n",
    "git add --all\n",
    "git commit -m \"package boilerplate\"\n",
    "git status\n",
    "```"
   ]
  },
  {
   "cell_type": "markdown",
   "metadata": {},
   "source": [
    "- Try to push your code\n",
    "- Woops???\n",
    "- $explain"
   ]
  },
  {
   "cell_type": "markdown",
   "metadata": {},
   "source": [
    "--------------\n",
    "Make new github repo:\n",
    "- Create a GH Repo: gh repo create (Public & Push existing)\n",
    "<br>\n",
    "Let's check on github...\n",
    "--------------\n",
    "- show remotes \n",
    "- $paint\n",
    "- Add Collaborator"
   ]
  },
  {
   "cell_type": "markdown",
   "metadata": {},
   "source": [
    "#### Git File Statuses\n",
    "\n",
    "- Make a new hello_world.py and print hello world .. git status ... explain & restore & re-add\n",
    "\n",
    "File can be in one of the following stages:\n",
    "- Untracked\n",
    "- Tracked/Staged (the INDEX)\n",
    "- Modified (needs to be re-added)\n",
    "- Committed (not really a stage)\n",
    "\n",
    "$MODIFY README.md\n",
    "<br>\n",
    "... git status\n",
    "\n",
    "$show commits with\n",
    "```git log --oneline```\n",
    "\n",
    "repush -> check github (commits)"
   ]
  },
  {
   "cell_type": "markdown",
   "metadata": {},
   "source": [
    "#### Create new branch and work on it .. encoder.py"
   ]
  },
  {
   "cell_type": "code",
   "execution_count": null,
   "metadata": {},
   "outputs": [],
   "source": []
  },
  {
   "cell_type": "markdown",
   "metadata": {},
   "source": [
    "- Remove remote branch: git push --delete origin branchname\n",
    "- Removal locals too: git remote prune origin"
   ]
  },
  {
   "cell_type": "markdown",
   "metadata": {},
   "source": [
    "## Time Traveling... But... unexpected things may occur"
   ]
  },
  {
   "cell_type": "code",
   "execution_count": null,
   "metadata": {},
   "outputs": [],
   "source": [
    "git reflog"
   ]
  },
  {
   "cell_type": "code",
   "execution_count": null,
   "metadata": {},
   "outputs": [],
   "source": [
    "git revert $COMMIT_ID to revert the commit"
   ]
  },
  {
   "cell_type": "markdown",
   "metadata": {},
   "source": [
    "## Or go back in time... but seriously... dont"
   ]
  },
  {
   "cell_type": "code",
   "execution_count": null,
   "metadata": {},
   "outputs": [],
   "source": [
    "git reset --hard master@{5.days.ago}"
   ]
  },
  {
   "cell_type": "markdown",
   "metadata": {},
   "source": [
    "##### Can't go back before I existed..! (damn!)"
   ]
  },
  {
   "cell_type": "markdown",
   "metadata": {},
   "source": [
    "## What if I can't 'git sweep'?"
   ]
  },
  {
   "cell_type": "markdown",
   "metadata": {},
   "source": [
    "#### git branch -r must point to git remote set-head origin master"
   ]
  },
  {
   "cell_type": "markdown",
   "metadata": {},
   "source": [
    "#### QUICK FIX: 'git remote set-head origin master'"
   ]
  },
  {
   "cell_type": "markdown",
   "metadata": {},
   "source": [
    "## Merge Conflicts"
   ]
  },
  {
   "cell_type": "markdown",
   "metadata": {},
   "source": [
    "![](git_memes.jpg)"
   ]
  },
  {
   "cell_type": "code",
   "execution_count": 4,
   "metadata": {},
   "outputs": [],
   "source": [
    "## Check if a file exists in git history"
   ]
  },
  {
   "cell_type": "code",
   "execution_count": 5,
   "metadata": {},
   "outputs": [],
   "source": [
    "#git log --all --pretty=format: --name-only --diff-filter=A | sort - | grep train.csv"
   ]
  },
  {
   "cell_type": "code",
   "execution_count": null,
   "metadata": {},
   "outputs": [],
   "source": []
  },
  {
   "cell_type": "code",
   "execution_count": null,
   "metadata": {},
   "outputs": [],
   "source": []
  },
  {
   "cell_type": "code",
   "execution_count": null,
   "metadata": {},
   "outputs": [],
   "source": []
  },
  {
   "cell_type": "code",
   "execution_count": null,
   "metadata": {},
   "outputs": [],
   "source": []
  },
  {
   "cell_type": "markdown",
   "metadata": {},
   "source": [
    "### Notebook Comparison"
   ]
  },
  {
   "cell_type": "markdown",
   "metadata": {},
   "source": []
  }
 ],
 "metadata": {
  "kernelspec": {
   "display_name": "Python 3.10.6 64-bit ('shims')",
   "language": "python",
   "name": "python3"
  },
  "language_info": {
   "codemirror_mode": {
    "name": "ipython",
    "version": 3
   },
   "file_extension": ".py",
   "mimetype": "text/x-python",
   "name": "python",
   "nbconvert_exporter": "python",
   "pygments_lexer": "ipython3",
   "version": "3.10.6"
  },
  "orig_nbformat": 4,
  "vscode": {
   "interpreter": {
    "hash": "b22d6dbc4e0c643f47d97766331e335d96f19894d5649ce9063ff7d486dcccc1"
   }
  }
 },
 "nbformat": 4,
 "nbformat_minor": 2
}
